{
 "cells": [
  {
   "cell_type": "markdown",
   "metadata": {
    "extensions": {
     "jupyter_dashboards": {
      "version": 1,
      "views": {
       "grid_default": {
        "col": 0,
        "height": 4,
        "hidden": true,
        "row": 0,
        "width": 4
       },
       "report_default": {}
      }
     }
    }
   },
   "source": [
    "# Setup"
   ]
  },
  {
   "cell_type": "code",
   "execution_count": null,
   "metadata": {
    "collapsed": false,
    "extensions": {
     "jupyter_dashboards": {
      "version": 1,
      "views": {
       "grid_default": {
        "hidden": true
       },
       "report_default": {}
      }
     }
    }
   },
   "outputs": [],
   "source": [
    "import pandas as pd\n",
    "import numpy as np\n",
    "\n",
    "import pickle\n",
    "import os\n",
    "\n",
    "import ipywidgets as widgets\n",
    "import traitlets\n",
    "from IPython.display import display, clear_output, HTML\n",
    "\n",
    "from feature_utils import ItemSelector, TextStats"
   ]
  },
  {
   "cell_type": "code",
   "execution_count": null,
   "metadata": {
    "collapsed": false,
    "extensions": {
     "jupyter_dashboards": {
      "version": 1,
      "views": {
       "grid_default": {
        "hidden": true
       },
       "report_default": {}
      }
     }
    }
   },
   "outputs": [],
   "source": [
    "data_path = '/home/jovyan/work/data'"
   ]
  },
  {
   "cell_type": "code",
   "execution_count": null,
   "metadata": {
    "collapsed": false,
    "extensions": {
     "jupyter_dashboards": {
      "version": 1,
      "views": {
       "grid_default": {
        "hidden": true
       },
       "report_default": {}
      }
     }
    }
   },
   "outputs": [],
   "source": [
    "try:\n",
    "    file_path = os.path.join(data_path, 'helpfulness_estimators.pickle')\n",
    "    with open(file_path, 'rb') as f:\n",
    "        estimators = pickle.load(f)\n",
    "except FileNotFoundError as e:\n",
    "    print('Please train the estimators first!')\n",
    "    raise"
   ]
  },
  {
   "cell_type": "code",
   "execution_count": null,
   "metadata": {
    "collapsed": true,
    "extensions": {
     "jupyter_dashboards": {
      "version": 1,
      "views": {
       "grid_default": {
        "hidden": true
       },
       "report_default": {}
      }
     }
    }
   },
   "outputs": [],
   "source": [
    "reviews = pd.read_csv(os.path.join(data_path, '../data/Reviews.csv'))\n",
    "reviews['Helpfulness'] = reviews['HelpfulnessNumerator'].divide(reviews['HelpfulnessDenominator'], axis=0)"
   ]
  },
  {
   "cell_type": "code",
   "execution_count": null,
   "metadata": {
    "collapsed": false,
    "extensions": {
     "jupyter_dashboards": {
      "version": 1,
      "views": {
       "grid_default": {
        "hidden": true
       },
       "report_default": {}
      }
     }
    }
   },
   "outputs": [],
   "source": [
    "# interface controls\n",
    "\n",
    "widget_summary = widgets.Textarea(\n",
    "    value='',\n",
    "    description='Summary',\n",
    ")\n",
    "\n",
    "widget_text = widgets.Textarea(\n",
    "    value='',\n",
    "    description='Text',\n",
    ")\n",
    "\n",
    "widget_score = widgets.Dropdown(\n",
    "    options=list(range(1,6)),\n",
    "    value=3,\n",
    "    description='Score'\n",
    ")\n",
    "\n",
    "widget_output = widgets.HTML(\n",
    "    value=''\n",
    ")\n",
    "\n",
    "widget_predict = widgets.Button(description='Predict usefulness')"
   ]
  },
  {
   "cell_type": "code",
   "execution_count": null,
   "metadata": {
    "collapsed": false,
    "extensions": {
     "jupyter_dashboards": {
      "version": 1,
      "views": {
       "grid_default": {
        "hidden": true
       },
       "report_default": {}
      }
     }
    }
   },
   "outputs": [],
   "source": [
    "def predict_on_click(*args):\n",
    "    \n",
    "    # build predictors array\n",
    "    s = {}\n",
    "    s['Summary'] = widget_summary.value\n",
    "    s['Text'] = widget_text.value\n",
    "    s['Score'] = widget_score.value\n",
    "    data = pd.DataFrame([s])\n",
    "    \n",
    "    results = []\n",
    "    for name, estimator in estimators.items():\n",
    "        v = estimator.predict(data)\n",
    "        results.append('<p>{} -- score: {:.2f}</p>'.format(name, float(v)))\n",
    "    \n",
    "    widget_output.value = '\\n'.join(results)\n",
    "\n",
    "widget_predict.on_click(predict_on_click)"
   ]
  },
  {
   "cell_type": "code",
   "execution_count": null,
   "metadata": {
    "collapsed": false,
    "extensions": {
     "jupyter_dashboards": {
      "version": 1,
      "views": {
       "grid_default": {
        "col": 0,
        "height": 11,
        "hidden": false,
        "row": 0,
        "width": 6
       },
       "report_default": {}
      }
     }
    },
    "scrolled": false
   },
   "outputs": [],
   "source": [
    "display(widgets.VBox([widget_summary, widget_text, widget_score, widget_predict]))"
   ]
  },
  {
   "cell_type": "markdown",
   "metadata": {
    "extensions": {
     "jupyter_dashboards": {
      "version": 1,
      "views": {
       "grid_default": {
        "col": 0,
        "height": 2,
        "hidden": false,
        "row": 65,
        "width": 12
       },
       "report_default": {}
      }
     }
    }
   },
   "source": [
    "# Used estimators"
   ]
  },
  {
   "cell_type": "markdown",
   "metadata": {
    "extensions": {
     "jupyter_dashboards": {
      "version": 1,
      "views": {
       "grid_default": {
        "col": 0,
        "height": 2,
        "hidden": false,
        "row": 67,
        "width": 12
       },
       "report_default": {}
      }
     }
    }
   },
   "source": [
    "The following are the configurations of the best estimators in each class."
   ]
  },
  {
   "cell_type": "code",
   "execution_count": null,
   "metadata": {
    "collapsed": false,
    "extensions": {
     "jupyter_dashboards": {
      "version": 1,
      "views": {
       "grid_default": {
        "col": 0,
        "height": 19,
        "hidden": false,
        "row": 69,
        "width": 12
       },
       "report_default": {}
      }
     }
    }
   },
   "outputs": [],
   "source": [
    "for name, estimator in estimators.items():\n",
    "    print(name, estimator.steps, sep='\\n', end='\\n\\n\\n')"
   ]
  },
  {
   "cell_type": "markdown",
   "metadata": {
    "extensions": {
     "jupyter_dashboards": {
      "version": 1,
      "views": {
       "grid_default": {
        "col": 0,
        "height": 2,
        "hidden": false,
        "row": 11,
        "width": 6
       },
       "report_default": {}
      }
     }
    }
   },
   "source": [
    "# Examples"
   ]
  },
  {
   "cell_type": "markdown",
   "metadata": {
    "extensions": {
     "jupyter_dashboards": {
      "version": 1,
      "views": {
       "grid_default": {
        "col": 0,
        "height": 2,
        "hidden": false,
        "row": 13,
        "width": 6
       },
       "report_default": {}
      }
     }
    }
   },
   "source": [
    "You can copy the values from one of these examples."
   ]
  },
  {
   "cell_type": "code",
   "execution_count": null,
   "metadata": {
    "collapsed": false,
    "extensions": {
     "jupyter_dashboards": {
      "version": 1,
      "views": {
       "grid_default": {
        "col": 0,
        "height": 50,
        "hidden": false,
        "row": 15,
        "width": 12
       },
       "report_default": {}
      }
     }
    }
   },
   "outputs": [],
   "source": [
    "examples = reviews.loc[~reviews['Helpfulness'].isnull()].sample(n=5, random_state=0)\n",
    "for i, s in examples.iterrows():\n",
    "    print('Helpfulness: {:.2f} ---------------------------------'.format(s['Helpfulness']))\n",
    "    print('>> Summary', s['Summary'],\n",
    "          '>> Text', s['Text'],\n",
    "          '>> Score', s['Score'],\n",
    "          sep='\\n\\n', end='\\n\\n\\n\\n')"
   ]
  },
  {
   "cell_type": "markdown",
   "metadata": {
    "extensions": {
     "jupyter_dashboards": {
      "version": 1,
      "views": {
       "grid_default": {
        "col": 7,
        "height": 2,
        "hidden": false,
        "row": 0,
        "width": 5
       },
       "report_default": {}
      }
     }
    }
   },
   "source": [
    "# Results"
   ]
  },
  {
   "cell_type": "code",
   "execution_count": null,
   "metadata": {
    "collapsed": false,
    "extensions": {
     "jupyter_dashboards": {
      "version": 1,
      "views": {
       "grid_default": {
        "col": 7,
        "height": 13,
        "hidden": false,
        "row": 2,
        "width": 5
       },
       "report_default": {}
      }
     }
    }
   },
   "outputs": [],
   "source": [
    "display(widget_output)"
   ]
  },
  {
   "cell_type": "code",
   "execution_count": null,
   "metadata": {
    "collapsed": true,
    "extensions": {
     "jupyter_dashboards": {
      "version": 1,
      "views": {
       "grid_default": {
        "hidden": true
       },
       "report_default": {}
      }
     }
    }
   },
   "outputs": [],
   "source": []
  }
 ],
 "metadata": {
  "extensions": {
   "jupyter_dashboards": {
    "activeView": "grid_default",
    "version": 1,
    "views": {
     "grid_default": {
      "cellMargin": 10,
      "defaultCellHeight": 20,
      "maxColumns": 12,
      "name": "grid",
      "type": "grid"
     },
     "report_default": {
      "name": "report",
      "type": "report"
     }
    }
   }
  },
  "kernelspec": {
   "display_name": "Python 3",
   "language": "python",
   "name": "python3"
  },
  "language_info": {
   "codemirror_mode": {
    "name": "ipython",
    "version": 3
   },
   "file_extension": ".py",
   "mimetype": "text/x-python",
   "name": "python",
   "nbconvert_exporter": "python",
   "pygments_lexer": "ipython3",
   "version": "3.5.2"
  }
 },
 "nbformat": 4,
 "nbformat_minor": 0
}
