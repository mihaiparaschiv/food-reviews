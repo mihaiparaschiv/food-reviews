{
 "cells": [
  {
   "cell_type": "markdown",
   "metadata": {},
   "source": [
    "# Introduction\n",
    "\n",
    "Before running this notebook, run [Prepare data](Prepare data.ipynb) in order to create `../data/CleanedReviews.pickle`, which is required here.\n",
    "\n",
    "This document shows some information about the food reviews data set. Currently, product and user distributions by number of reviews are included. Also, there is a chart with the evolution of reviews."
   ]
  },
  {
   "cell_type": "markdown",
   "metadata": {},
   "source": [
    "# Setup"
   ]
  },
  {
   "cell_type": "code",
   "execution_count": null,
   "metadata": {
    "collapsed": false
   },
   "outputs": [],
   "source": [
    "%matplotlib inline"
   ]
  },
  {
   "cell_type": "code",
   "execution_count": null,
   "metadata": {
    "collapsed": true
   },
   "outputs": [],
   "source": [
    "import pandas as pd\n",
    "import numpy as np\n",
    "\n",
    "from datetime import datetime, timedelta\n",
    "\n",
    "import matplotlib.pyplot as plt\n",
    "import seaborn as sns\n",
    "\n",
    "sns.set(style=\"white\", color_codes=True)"
   ]
  },
  {
   "cell_type": "code",
   "execution_count": null,
   "metadata": {
    "collapsed": true
   },
   "outputs": [],
   "source": [
    "figsize = (16, 5)"
   ]
  },
  {
   "cell_type": "markdown",
   "metadata": {},
   "source": [
    "## Data import"
   ]
  },
  {
   "cell_type": "code",
   "execution_count": null,
   "metadata": {
    "collapsed": true
   },
   "outputs": [],
   "source": [
    "reviews = pd.read_pickle('../data/CleanedReviews.pickle')"
   ]
  },
  {
   "cell_type": "code",
   "execution_count": null,
   "metadata": {
    "collapsed": false
   },
   "outputs": [],
   "source": [
    "reviews.info()"
   ]
  },
  {
   "cell_type": "code",
   "execution_count": null,
   "metadata": {
    "collapsed": false,
    "scrolled": false
   },
   "outputs": [],
   "source": [
    "reviews.head(2)"
   ]
  },
  {
   "cell_type": "markdown",
   "metadata": {},
   "source": [
    "# Products"
   ]
  },
  {
   "cell_type": "code",
   "execution_count": null,
   "metadata": {
    "collapsed": false
   },
   "outputs": [],
   "source": [
    "ax = reviews.groupby(['ProductId']).size().hist(bins=np.arange(1, 50, 1), figsize=figsize)\n",
    "ax.set_title('Histogram of the number of reviews by product')\n",
    "ax.set_xlabel('Reviews')\n",
    "ax.set_ylabel('Products')\n",
    "plt.show()"
   ]
  },
  {
   "cell_type": "code",
   "execution_count": null,
   "metadata": {
    "collapsed": false
   },
   "outputs": [],
   "source": [
    "agg = {\n",
    "    'ProductId': {'Reviews': 'size'},\n",
    "    'Score': {'MeanScore': 'mean'},\n",
    "    'Time': {'FirstTime': 'first', 'LastTime': 'last'},\n",
    "}\n",
    "products = reviews.sort_values('Time').groupby('ProductId').agg(agg)\n",
    "products.columns = products.columns.droplevel()\n",
    "products.reset_index(inplace=True)\n",
    "products['Duration'] = products['LastTime'] - products['FirstTime']"
   ]
  },
  {
   "cell_type": "markdown",
   "metadata": {},
   "source": [
    "## Product durations"
   ]
  },
  {
   "cell_type": "markdown",
   "metadata": {},
   "source": [
    "The following chart shows how many days have passed from the first review to the last one. To do a proper estimation of product durations (based on reviews), we can use [survival analysis](https://en.wikipedia.org/wiki/Survival_analysis)."
   ]
  },
  {
   "cell_type": "code",
   "execution_count": null,
   "metadata": {
    "collapsed": false
   },
   "outputs": [],
   "source": [
    "ax = (products.loc[products['Reviews'] >= 5, 'Duration'] / timedelta(days=1)).hist(bins=100, figsize=figsize)\n",
    "ax.set_title('Days between first review and last review for products with more than 5 reviews')\n",
    "ax.set_xlabel('Durations')\n",
    "ax.set_ylabel('Products')\n",
    "plt.show()"
   ]
  },
  {
   "cell_type": "markdown",
   "metadata": {},
   "source": [
    "# Users"
   ]
  },
  {
   "cell_type": "markdown",
   "metadata": {},
   "source": [
    "From the following chart, we can observe that most users wrote a single comment."
   ]
  },
  {
   "cell_type": "code",
   "execution_count": null,
   "metadata": {
    "collapsed": false
   },
   "outputs": [],
   "source": [
    "ax = reviews.groupby(['UserId']).size().hist(bins=np.arange(1, 50, 1), figsize=figsize)\n",
    "ax.set_title('Histogram of the number of reviews by user')\n",
    "ax.set_xlabel('Reviews')\n",
    "ax.set_ylabel('Users')\n",
    "plt.show()"
   ]
  },
  {
   "cell_type": "markdown",
   "metadata": {},
   "source": [
    "# Reviews"
   ]
  },
  {
   "cell_type": "code",
   "execution_count": null,
   "metadata": {
    "collapsed": false
   },
   "outputs": [],
   "source": [
    "ax = reviews.groupby(pd.TimeGrouper(key='Time', freq='w')).size().plot(figsize=figsize)\n",
    "ax.set_title('Reviews per week')\n",
    "ax.set_xlabel('')\n",
    "ax.set_ylabel('Reviews')\n",
    "plt.show()"
   ]
  }
 ],
 "metadata": {
  "kernelspec": {
   "display_name": "Python 3",
   "language": "python",
   "name": "python3"
  },
  "language_info": {
   "codemirror_mode": {
    "name": "ipython",
    "version": 3
   },
   "file_extension": ".py",
   "mimetype": "text/x-python",
   "name": "python",
   "nbconvert_exporter": "python",
   "pygments_lexer": "ipython3",
   "version": "3.5.2"
  }
 },
 "nbformat": 4,
 "nbformat_minor": 0
}
